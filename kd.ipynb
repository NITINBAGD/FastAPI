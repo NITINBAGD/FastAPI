{
 "cells": [
  {
   "cell_type": "code",
   "execution_count": 1,
   "metadata": {},
   "outputs": [
    {
     "name": "stdout",
     "output_type": "stream",
     "text": [
      "Collecting passlib[bcrypt]\n",
      "  Using cached passlib-1.7.4-py2.py3-none-any.whl (525 kB)\n",
      "Requirement already satisfied: bcrypt>=3.1.0 in c:\\users\\bagde\\anaconda3\\lib\\site-packages (from passlib[bcrypt]) (3.2.0)\n",
      "Requirement already satisfied: cffi>=1.1 in c:\\users\\bagde\\anaconda3\\lib\\site-packages (from bcrypt>=3.1.0->passlib[bcrypt]) (1.15.1)\n",
      "Requirement already satisfied: six>=1.4.1 in c:\\users\\bagde\\anaconda3\\lib\\site-packages (from bcrypt>=3.1.0->passlib[bcrypt]) (1.16.0)\n",
      "Requirement already satisfied: pycparser in c:\\users\\bagde\\anaconda3\\lib\\site-packages (from cffi>=1.1->bcrypt>=3.1.0->passlib[bcrypt]) (2.21)\n",
      "Installing collected packages: passlib\n",
      "Successfully installed passlib-1.7.4\n",
      "Note: you may need to restart the kernel to use updated packages.\n"
     ]
    }
   ],
   "source": [
    "pip install \"passlib[bcrypt]\""
   ]
  },
  {
   "cell_type": "code",
   "execution_count": null,
   "metadata": {},
   "outputs": [],
   "source": []
  }
 ],
 "metadata": {
  "kernelspec": {
   "display_name": "base",
   "language": "python",
   "name": "python3"
  },
  "language_info": {
   "codemirror_mode": {
    "name": "ipython",
    "version": 3
   },
   "file_extension": ".py",
   "mimetype": "text/x-python",
   "name": "python",
   "nbconvert_exporter": "python",
   "pygments_lexer": "ipython3",
   "version": "3.10.9"
  },
  "orig_nbformat": 4
 },
 "nbformat": 4,
 "nbformat_minor": 2
}
